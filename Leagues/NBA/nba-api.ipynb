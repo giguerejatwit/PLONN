{
 "cells": [
  {
   "cell_type": "markdown",
   "metadata": {},
   "source": [
    "### The purpose of nba-api is to scrape basketball-reference.com and extract matchup information and team statistics\n",
    "Jake Giguere giguere@bu.edu\n",
    "\n",
    "disclaimer: This is software is soley for educational purposes. Please do not use this for gambling or sport-betting."
   ]
  },
  {
   "cell_type": "code",
   "execution_count": 1,
   "metadata": {},
   "outputs": [
    {
     "name": "stderr",
     "output_type": "stream",
     "text": [
      "/Users/jakegiguere/Library/Python/3.9/lib/python/site-packages/urllib3/__init__.py:35: NotOpenSSLWarning: urllib3 v2 only supports OpenSSL 1.1.1+, currently the 'ssl' module is compiled with 'LibreSSL 2.8.3'. See: https://github.com/urllib3/urllib3/issues/3020\n",
      "  warnings.warn(\n",
      "2024-12-24 13:42:04.803158: I tensorflow/core/platform/cpu_feature_guard.cc:210] This TensorFlow binary is optimized to use available CPU instructions in performance-critical operations.\n",
      "To enable the following instructions: AVX2 FMA, in other operations, rebuild TensorFlow with the appropriate compiler flags.\n"
     ]
    },
    {
     "name": "stdout",
     "output_type": "stream",
     "text": [
      "TensorFlow version: 2.16.2\n"
     ]
    }
   ],
   "source": [
    "import os\n",
    "import time\n",
    "from io import StringIO\n",
    "\n",
    "import pandas as pd\n",
    "import requests\n",
    "import tensorflow as tf\n",
    "from bs4 import BeautifulSoup\n",
    "\n",
    "print(\"TensorFlow version:\", tf.__version__)\n",
    "\n",
    "\n",
    "from sklearn.model_selection import train_test_split\n",
    "from sklearn.preprocessing import StandardScaler"
   ]
  },
  {
   "cell_type": "markdown",
   "metadata": {},
   "source": [
    "Start by extracting the matchups for every year from 2022-2024 in months Oct-Apr and concatenate them to a dataframe. We need the Home team, Pts, Visitor Team, Pts\n",
    "url: https://www.basketball-reference.com/leagues/NBA_2024_games-{month}.html#schedule "
   ]
  },
  {
   "cell_type": "code",
   "execution_count": null,
   "metadata": {},
   "outputs": [],
   "source": [
    "months = [\"october\", \"november\", \"december\", \"january\", \"february\", \"march\", \"april\"]\n",
    "data = pd.DataFrame()\n",
    "for year in range(2022,2025):\n",
    "    for month in months:\n",
    "        url = f\"https://www.basketball-reference.com/leagues/NBA_{year}_games-{month}.html#schedule\"\n",
    "\n",
    "        try:\n",
    "            r = requests.get(url)\n",
    "            r.raise_for_status()\n",
    "        except Exception as e:\n",
    "            print(\"Could not fetch months {} games\")\n",
    "        soup = BeautifulSoup(r.text, 'html.parser')\n",
    "        table = soup.find('table', {'id': 'schedule'})\n",
    "\n",
    "        if table:\n",
    "            table = StringIO(str(table))\n",
    "            month_data = pd.read_html(table)[0]\n",
    "            data = pd.concat([data, month_data], ignore_index=True) \n",
    "\n",
    "\n",
    "\n",
    "\n"
   ]
  },
  {
   "cell_type": "markdown",
   "metadata": {},
   "source": [
    "### Convert data into a CSV so we can prevent repetitive api calls"
   ]
  },
  {
   "cell_type": "code",
   "execution_count": null,
   "metadata": {},
   "outputs": [],
   "source": [
    "data.to_csv('Data/matchups.csv')\n",
    "data.shape"
   ]
  },
  {
   "cell_type": "markdown",
   "metadata": {},
   "source": [
    "### 3833 games collected with 12 rows however we only need the 4 rows mentioned above."
   ]
  },
  {
   "cell_type": "code",
   "execution_count": null,
   "metadata": {},
   "outputs": [],
   "source": [
    "features = ['Visitor/Neutral', 'PTS', 'Home/Neutral', 'PTS.1']\n",
    "\n",
    "data = data[features]\n",
    "data.head()"
   ]
  },
  {
   "cell_type": "markdown",
   "metadata": {},
   "source": [
    "### Now lets collect team statistics using game log. We should also grab all the team abreviations using ChatGPT to save time\n",
    "url: https://www.basketball-reference.com/teams/{team_abrv}/{year}/gamelog/\n"
   ]
  },
  {
   "cell_type": "code",
   "execution_count": 293,
   "metadata": {},
   "outputs": [
    {
     "name": "stdout",
     "output_type": "stream",
     "text": [
      "BOS\n",
      "Los Angeles Lakers\n",
      "New York Knicks\n",
      "PHI\n",
      "Atlanta Hawks\n"
     ]
    }
   ],
   "source": [
    "# Dictionary mapping team names to their abbreviations\n",
    "TEAM_MAP = {\n",
    "    \"Atlanta Hawks\": \"ATL\",\n",
    "    \"Boston Celtics\": \"BOS\",\n",
    "    \"Brooklyn Nets\": \"BRK\",\n",
    "    \"Charlotte Hornets\": \"CHO\",\n",
    "    \"Chicago Bulls\": \"CHI\",\n",
    "    \"Cleveland Cavaliers\": \"CLE\",\n",
    "    \"Dallas Mavericks\": \"DAL\",\n",
    "    \"Denver Nuggets\": \"DEN\",\n",
    "    \"Detroit Pistons\": \"DET\",\n",
    "    \"Golden State Warriors\": \"GSW\",\n",
    "    \"Houston Rockets\": \"HOU\",\n",
    "    \"Indiana Pacers\": \"IND\",\n",
    "    \"Los Angeles Clippers\": \"LAC\",\n",
    "    \"Los Angeles Lakers\": \"LAL\",\n",
    "    \"Memphis Grizzlies\": \"MEM\",\n",
    "    \"Miami Heat\": \"MIA\",\n",
    "    \"Milwaukee Bucks\": \"MIL\",\n",
    "    \"Minnesota Timberwolves\": \"MIN\",\n",
    "    \"New Orleans Pelicans\": \"NOP\",\n",
    "    \"New York Knicks\": \"NYK\",\n",
    "    \"Oklahoma City Thunder\": \"OKC\",\n",
    "    \"Orlando Magic\": \"ORL\",\n",
    "    \"Philadelphia 76ers\": \"PHI\",\n",
    "    \"Phoenix Suns\": \"PHO\",\n",
    "    \"Portland Trail Blazers\": \"POR\",\n",
    "    \"Sacramento Kings\": \"SAC\",\n",
    "    \"San Antonio Spurs\": \"SAS\",\n",
    "    \"Toronto Raptors\": \"TOR\",\n",
    "    \"Utah Jazz\": \"UTA\",\n",
    "    \"Washington Wizards\": \"WAS\"\n",
    "}\n",
    "\n",
    "# Reverse dictionary for abbreviation to full team name\n",
    "ABBR_MAP = {abbr: team for team, abbr in TEAM_MAP.items()}\n",
    "\n",
    "def get_team_name_or_abbr(input_str):\n",
    "    \"\"\"Convert a team name to its abbreviation or vice versa.\"\"\"\n",
    "    input_str = input_str.strip()\n",
    "    \n",
    "    # Check if the input is an abbreviation\n",
    "    if input_str.upper() in ABBR_MAP:\n",
    "        return ABBR_MAP[input_str.upper()]\n",
    "    # Check if the input is a full team name\n",
    "    elif input_str in TEAM_MAP:\n",
    "        return TEAM_MAP[input_str]\n",
    "    else:\n",
    "        return \"Team not found.\"\n",
    "\n",
    "# Example Usage\n",
    "print(get_team_name_or_abbr(\"Boston Celtics\"))   # Output: \"BOS\"\n",
    "print(get_team_name_or_abbr(\"LAL\"))              # Output: \"Los Angeles Lakers\"\n",
    "print(get_team_name_or_abbr(\"NYK\"))              # Output: \"New York Knicks\"\n",
    "print(get_team_name_or_abbr(\"Philadelphia 76ers\"))  # Output: \"PHI\"\n",
    "print(get_team_name_or_abbr(\"ATL\"))              # Output: \"Atlanta Hawks\"\n"
   ]
  },
  {
   "cell_type": "code",
   "execution_count": null,
   "metadata": {},
   "outputs": [],
   "source": [
    "abv = list(TEAM_MAP.values())\n",
    "abv"
   ]
  },
  {
   "cell_type": "markdown",
   "metadata": {},
   "source": [
    "### Retreive Data from 2022-2024"
   ]
  },
  {
   "cell_type": "code",
   "execution_count": 373,
   "metadata": {},
   "outputs": [],
   "source": [
    "headers = {\n",
    "    \"User-Agent\": \"Mozilla/5.0 (Windows NT 10.0; Win64; x64) AppleWebKit/537.36 (KHTML, like Gecko) Chrome/114.0.0.0 Safari/537.36\"\n",
    "}\n",
    "abreviations = list(TEAM_MAP.values()) #list of all abreviations\n",
    "years = range(2023, 2026)\n",
    "teams_data = pd.DataFrame()\n",
    "for year in years:\n",
    "    for abrv in abreviations:\n",
    "        url = f'https://www.basketball-reference.com/teams/{abrv}/{year}/gamelog/'\n",
    "\n",
    "        try:\n",
    "            r = requests.get(url, headers=headers)\n",
    "            r.raise_for_status()\n",
    "        except Exception as e:\n",
    "            print(f'Could not fetch {abrv}/{year}')\n",
    "            r.raise_for_status()\n",
    "        \n",
    "        soup = BeautifulSoup(r.text, 'html.parser')\n",
    "        table = soup.find('table', {'id': 'tgl_basic'})\n",
    "\n",
    "\n",
    "        if table:\n",
    "            table = StringIO(str(table))\n",
    "            team = pd.read_html(table)[0]\n",
    "            team['tm'] = abrv\n",
    "            teams_data = pd.concat([teams_data, team], ignore_index=True)\n",
    "\n",
    "    time.sleep(120)\n",
    "\n",
    "\n"
   ]
  },
  {
   "cell_type": "code",
   "execution_count": 374,
   "metadata": {},
   "outputs": [
    {
     "data": {
      "text/plain": [
       "(6428, 42)"
      ]
     },
     "execution_count": 374,
     "metadata": {},
     "output_type": "execute_result"
    }
   ],
   "source": [
    "teams_data.shape"
   ]
  },
  {
   "cell_type": "markdown",
   "metadata": {},
   "source": [
    "### Save/Overwrite to gamelog csv file should have 2700x3 years about +8000 rows "
   ]
  },
  {
   "cell_type": "code",
   "execution_count": 375,
   "metadata": {},
   "outputs": [],
   "source": [
    "teams_data.to_csv('Data/gamelogs2022_2024.csv', mode='w+', header=not pd.io.common.file_exists('Data/gamelogs2022_2024.csv'), index=False)"
   ]
  },
  {
   "cell_type": "markdown",
   "metadata": {},
   "source": [
    "Clean up the game log. repeated headers, etc. save to Data/cleaned_gamelogs.csv\n"
   ]
  },
  {
   "cell_type": "code",
   "execution_count": 377,
   "metadata": {},
   "outputs": [],
   "source": [
    "data = pd.read_csv('Data/gamelogs2022_2024.csv', header=0)\n",
    "\n",
    "#Remove any multi labeled rows, and unnamed values \n",
    "data = data.loc[:, ~data.columns.str.contains('^Unnamed')]\n",
    "data = data[data['Rk'].apply(lambda x: str(x).isdigit())]\n",
    "\n",
    "data.reset_index(drop=True, inplace=True)\n",
    "# Display the first few rows of the cleaned DataFrame\n",
    "data.to_csv('Data/cleaned_gamelogs.csv', index=False)\n"
   ]
  },
  {
   "cell_type": "markdown",
   "metadata": {},
   "source": [
    "### Prepare the data for the Sequential Model"
   ]
  },
  {
   "cell_type": "code",
   "execution_count": 378,
   "metadata": {},
   "outputs": [
    {
     "name": "stdout",
     "output_type": "stream",
     "text": [
      "Index(['Rk', 'G', 'Date', 'Opp', 'W/L', 'PTS', 'PTS.1', 'FG', 'FGA', 'FG%',\n",
      "       '3P', '3PA', '3P%', 'FT', 'FTA', 'FT%', 'ORB', 'TRB', 'AST', 'STL',\n",
      "       'BLK', 'TOV', 'PF', 'FG.1', 'FGA.1', 'FG%.1', '3P.1', '3PA.1', '3P%.1',\n",
      "       'FT.1', 'FTA.1', 'FT%.1', 'ORB.1', 'TRB.1', 'AST.1', 'STL.1', 'BLK.1',\n",
      "       'TOV.1', 'PF.1', 'ATL'],\n",
      "      dtype='object')\n",
      "(4416, 21)\n",
      "[[ 0.61963681  0.13226937  1.93690341 -1.05228114 -1.04381777  1.39826485\n",
      "   0.63310632 -1.46851802  0.84534334  0.11893021 -1.16514603 -0.67962031\n",
      "  -1.42362739 -0.59041497 -0.6020709  -0.51069785 -0.52161701 -0.19645828\n",
      "   0.15645262 -0.56102082  0.88745265]\n",
      " [-0.98246873  0.26038991 -0.72103231 -0.91357678 -0.49457746  0.19215646\n",
      "  -0.54709329 -0.88819402  0.41096631 -1.68852827 -0.65302451 -1.13129132\n",
      "  -0.23703052 -0.59041497 -0.21024346 -1.26749038  0.24825622  0.14726588\n",
      "  -1.2218911  -0.3226423   0.40455069]\n",
      " [-1.30288984  0.91929553  0.36047257 -0.63616805 -0.76919762  0.96836483\n",
      "  -3.12207425 -1.17835602 -0.74737244  0.11893021 -0.39696376 -0.0773923\n",
      "  -1.571952   -1.37109391  0.3774977  -0.51069785  0.50488063 -0.8839066\n",
      "   0.15645262 -0.3226423   1.12890364]\n",
      " [ 0.61963681  1.7063217   1.22201035  0.19605811 -0.49457746  0.22798146\n",
      "  -0.20137825 -0.16278903 -0.89216478 -0.3974865  -0.65302451 -0.83017732\n",
      "  -0.68200434 -0.00490576 -0.6020709   0.75062302  2.04462709  2.553335\n",
      "   1.87938228 -0.56102082  0.1630997 ]]\n"
     ]
    }
   ],
   "source": [
    "cleaned_df = pd.read_csv('Data/cleaned_gamelogs.csv')\n",
    "print(cleaned_df.columns)\n",
    "\n",
    "# Load the cleaned dataset\n",
    "data = pd.read_csv('Data/cleaned_gamelogs.csv')\n",
    "feature_columns = ['PTS.1', \n",
    "                # 'Home/Away', 'Home/Away.1',\n",
    "                'FG%', 'FG%.1',\n",
    "                'FGA', 'FGA.1',\n",
    "                '3P%', '3P%.1',\n",
    "                '3PA', '3PA.1',\n",
    "                'ORB', 'ORB.1',\n",
    "                'TRB', 'TRB.1',\n",
    "                'AST', 'AST.1',\n",
    "                'TOV', 'TOV.1',\n",
    "                'STL', 'STL.1',\n",
    "                'PF', 'PF.1']\n",
    "# Define features (excluding 'Tm' which is the target)\n",
    "# data['Home/Away'] = data['Home/Away'].fillna('').astype(str)\n",
    "# \n",
    "# data['Home/Away'] = data['Home/Away'].apply(lambda x: 1 if '@' in x else 0)\n",
    "# Add Home/Away.1 column\n",
    "# data['Home/Away.1'] = (data['Home/Away'] == 0).astype(int)\n",
    "\n",
    "data.to_csv('Data/cleaned_gamelogs.csv', index=False)\n",
    "\n",
    "features = data[feature_columns]\n",
    "target = data['PTS']\n",
    "\n",
    "# Split the data into training and testing sets (80% train, 20% test)\n",
    "X_train, _, y_train, _ = train_test_split(features, target)\n",
    "\n",
    "# Scale the features for better performance\n",
    "scaler = StandardScaler()\n",
    "X_train = scaler.fit_transform(X_train)\n",
    "# X_test = scaler.transform(X_test)\n",
    "\n",
    "\n",
    "print(X_train.shape)\n",
    "# print(X_test.shape)\n",
    "\n",
    "print(X_train[1:5])\n",
    "\n"
   ]
  },
  {
   "cell_type": "code",
   "execution_count": 345,
   "metadata": {},
   "outputs": [
    {
     "data": {
      "image/png": "[encoded data removed]",
      "text/plain": [
       "<Figure size 640x480 with 1 Axes>"
      ]
     },
     "metadata": {},
     "output_type": "display_data"
    },
    {
     "name": "stdout",
     "output_type": "stream",
     "text": [
      "Target Value Stats:\n",
      "count    5876.000000\n",
      "mean      114.213410\n",
      "std        12.452315\n",
      "min        73.000000\n",
      "25%       106.000000\n",
      "50%       114.000000\n",
      "75%       123.000000\n",
      "max       176.000000\n",
      "Name: PTS, dtype: float64\n"
     ]
    }
   ],
   "source": [
    "import matplotlib.pyplot as plt\n",
    "import seaborn as sns\n",
    "\n",
    "sns.kdeplot(target, fill=True,)\n",
    "plt.hist(target, bins=15)\n",
    "plt.title(\"Distribution of Target Values\")\n",
    "plt.show()\n",
    "\n",
    "print(\"Target Value Stats:\")\n",
    "print(target.describe())\n"
   ]
  },
  {
   "cell_type": "markdown",
   "metadata": {},
   "source": [
    "### Check for NaNs or Infinite Values"
   ]
  },
  {
   "cell_type": "code",
   "execution_count": 50,
   "metadata": {},
   "outputs": [],
   "source": [
    "import numpy as np\n",
    "\n",
    "from tensorflow.keras.layers import Dense, Flatten\n",
    "from tensorflow.keras.models import Sequential\n",
    "from tensorflow.keras import Model\n",
    "from tensorflow.keras.optimizers import Adam\n",
    "\n",
    "from keras import layers, callbacks\n"
   ]
  },
  {
   "cell_type": "code",
   "execution_count": 379,
   "metadata": {},
   "outputs": [
    {
     "name": "stdout",
     "output_type": "stream",
     "text": [
      "Epoch 1/100\n",
      "\u001b[1m221/221\u001b[0m \u001b[32m━━━━━━━━━━━━━━━━━━━━\u001b[0m\u001b[37m\u001b[0m \u001b[1m2s\u001b[0m 2ms/step - loss: 9680.7764 - mae: 92.3808 - val_loss: 556.8242 - val_mae: 18.4608 - learning_rate: 0.0010\n",
      "Epoch 2/100\n",
      "\u001b[1m221/221\u001b[0m \u001b[32m━━━━━━━━━━━━━━━━━━━━\u001b[0m\u001b[37m\u001b[0m \u001b[1m0s\u001b[0m 1ms/step - loss: 456.9000 - mae: 17.2512 - val_loss: 347.9789 - val_mae: 14.7840 - learning_rate: 0.0010\n",
      "Epoch 3/100\n",
      "\u001b[1m221/221\u001b[0m \u001b[32m━━━━━━━━━━━━━━━━━━━━\u001b[0m\u001b[37m\u001b[0m \u001b[1m0s\u001b[0m 1ms/step - loss: 305.2034 - mae: 14.0877 - val_loss: 248.2439 - val_mae: 12.7345 - learning_rate: 0.0010\n",
      "Epoch 4/100\n",
      "\u001b[1m221/221\u001b[0m \u001b[32m━━━━━━━━━━━━━━━━━━━━\u001b[0m\u001b[37m\u001b[0m \u001b[1m0s\u001b[0m 2ms/step - loss: 207.1869 - mae: 11.5290 - val_loss: 165.0722 - val_mae: 10.1797 - learning_rate: 0.0010\n",
      "Epoch 5/100\n",
      "\u001b[1m221/221\u001b[0m \u001b[32m━━━━━━━━━━━━━━━━━━━━\u001b[0m\u001b[37m\u001b[0m \u001b[1m0s\u001b[0m 1ms/step - loss: 147.6321 - mae: 9.6795 - val_loss: 113.7737 - val_mae: 8.5126 - learning_rate: 0.0010\n",
      "Epoch 6/100\n",
      "\u001b[1m221/221\u001b[0m \u001b[32m━━━━━━━━━━━━━━━━━━━━\u001b[0m\u001b[37m\u001b[0m \u001b[1m0s\u001b[0m 1ms/step - loss: 99.8365 - mae: 7.9676 - val_loss: 80.6309 - val_mae: 7.1325 - learning_rate: 0.0010\n",
      "Epoch 7/100\n",
      "\u001b[1m221/221\u001b[0m \u001b[32m━━━━━━━━━━━━━━━━━━━━\u001b[0m\u001b[37m\u001b[0m \u001b[1m0s\u001b[0m 1ms/step - loss: 65.0353 - mae: 6.4694 - val_loss: 58.1040 - val_mae: 6.0143 - learning_rate: 0.0010\n",
      "Epoch 8/100\n",
      "\u001b[1m221/221\u001b[0m \u001b[32m━━━━━━━━━━━━━━━━━━━━\u001b[0m\u001b[37m\u001b[0m \u001b[1m0s\u001b[0m 1ms/step - loss: 49.6107 - mae: 5.6347 - val_loss: 43.1726 - val_mae: 5.1773 - learning_rate: 0.0010\n",
      "Epoch 9/100\n",
      "\u001b[1m221/221\u001b[0m \u001b[32m━━━━━━━━━━━━━━━━━━━━\u001b[0m\u001b[37m\u001b[0m \u001b[1m0s\u001b[0m 1ms/step - loss: 35.6838 - mae: 4.7024 - val_loss: 31.8090 - val_mae: 4.5550 - learning_rate: 0.0010\n",
      "Epoch 10/100\n",
      "\u001b[1m221/221\u001b[0m \u001b[32m━━━━━━━━━━━━━━━━━━━━\u001b[0m\u001b[37m\u001b[0m \u001b[1m0s\u001b[0m 1ms/step - loss: 27.6128 - mae: 4.1996 - val_loss: 25.6256 - val_mae: 3.9258 - learning_rate: 0.0010\n",
      "Epoch 11/100\n",
      "\u001b[1m221/221\u001b[0m \u001b[32m━━━━━━━━━━━━━━━━━━━━\u001b[0m\u001b[37m\u001b[0m \u001b[1m0s\u001b[0m 1ms/step - loss: 22.1779 - mae: 3.7283 - val_loss: 19.9636 - val_mae: 3.5158 - learning_rate: 0.0010\n",
      "Epoch 12/100\n",
      "\u001b[1m221/221\u001b[0m \u001b[32m━━━━━━━━━━━━━━━━━━━━\u001b[0m\u001b[37m\u001b[0m \u001b[1m0s\u001b[0m 1ms/step - loss: 17.8578 - mae: 3.3809 - val_loss: 17.7049 - val_mae: 3.2739 - learning_rate: 0.0010\n",
      "Epoch 13/100\n",
      "\u001b[1m221/221\u001b[0m \u001b[32m━━━━━━━━━━━━━━━━━━━━\u001b[0m\u001b[37m\u001b[0m \u001b[1m0s\u001b[0m 1ms/step - loss: 15.0770 - mae: 3.1161 - val_loss: 15.5484 - val_mae: 3.0641 - learning_rate: 0.0010\n",
      "Epoch 14/100\n",
      "\u001b[1m221/221\u001b[0m \u001b[32m━━━━━━━━━━━━━━━━━━━━\u001b[0m\u001b[37m\u001b[0m \u001b[1m0s\u001b[0m 1ms/step - loss: 14.1199 - mae: 2.9897 - val_loss: 15.3669 - val_mae: 3.0993 - learning_rate: 0.0010\n",
      "Epoch 15/100\n",
      "\u001b[1m221/221\u001b[0m \u001b[32m━━━━━━━━━━━━━━━━━━━━\u001b[0m\u001b[37m\u001b[0m \u001b[1m0s\u001b[0m 1ms/step - loss: 12.5545 - mae: 2.8430 - val_loss: 14.4764 - val_mae: 3.0136 - learning_rate: 0.0010\n",
      "Epoch 16/100\n",
      "\u001b[1m221/221\u001b[0m \u001b[32m━━━━━━━━━━━━━━━━━━━━\u001b[0m\u001b[37m\u001b[0m \u001b[1m0s\u001b[0m 1ms/step - loss: 12.4952 - mae: 2.8230 - val_loss: 12.8879 - val_mae: 2.8296 - learning_rate: 0.0010\n",
      "Epoch 17/100\n",
      "\u001b[1m221/221\u001b[0m \u001b[32m━━━━━━━━━━━━━━━━━━━━\u001b[0m\u001b[37m\u001b[0m \u001b[1m0s\u001b[0m 1ms/step - loss: 11.6805 - mae: 2.7290 - val_loss: 13.2083 - val_mae: 2.8347 - learning_rate: 0.0010\n",
      "Epoch 18/100\n",
      "\u001b[1m221/221\u001b[0m \u001b[32m━━━━━━━━━━━━━━━━━━━━\u001b[0m\u001b[37m\u001b[0m \u001b[1m0s\u001b[0m 1ms/step - loss: 11.2511 - mae: 2.6681 - val_loss: 12.4144 - val_mae: 2.7550 - learning_rate: 0.0010\n",
      "Epoch 19/100\n",
      "\u001b[1m221/221\u001b[0m \u001b[32m━━━━━━━━━━━━━━━━━━━━\u001b[0m\u001b[37m\u001b[0m \u001b[1m0s\u001b[0m 1ms/step - loss: 10.9964 - mae: 2.6345 - val_loss: 15.1781 - val_mae: 3.0973 - learning_rate: 0.0010\n",
      "Epoch 20/100\n",
      "\u001b[1m221/221\u001b[0m \u001b[32m━━━━━━━━━━━━━━━━━━━━\u001b[0m\u001b[37m\u001b[0m \u001b[1m0s\u001b[0m 1ms/step - loss: 11.9184 - mae: 2.7641 - val_loss: 11.2090 - val_mae: 2.6050 - learning_rate: 0.0010\n",
      "Epoch 21/100\n",
      "\u001b[1m221/221\u001b[0m \u001b[32m━━━━━━━━━━━━━━━━━━━━\u001b[0m\u001b[37m\u001b[0m \u001b[1m0s\u001b[0m 2ms/step - loss: 10.6065 - mae: 2.5965 - val_loss: 11.7110 - val_mae: 2.7030 - learning_rate: 0.0010\n",
      "Epoch 22/100\n",
      "\u001b[1m221/221\u001b[0m \u001b[32m━━━━━━━━━━━━━━━━━━━━\u001b[0m\u001b[37m\u001b[0m \u001b[1m0s\u001b[0m 2ms/step - loss: 9.9951 - mae: 2.5166 - val_loss: 11.1851 - val_mae: 2.6267 - learning_rate: 0.0010\n",
      "Epoch 23/100\n",
      "\u001b[1m221/221\u001b[0m \u001b[32m━━━━━━━━━━━━━━━━━━━━\u001b[0m\u001b[37m\u001b[0m \u001b[1m0s\u001b[0m 1ms/step - loss: 11.0525 - mae: 2.6858 - val_loss: 11.7325 - val_mae: 2.6840 - learning_rate: 0.0010\n",
      "Epoch 24/100\n",
      "\u001b[1m221/221\u001b[0m \u001b[32m━━━━━━━━━━━━━━━━━━━━\u001b[0m\u001b[37m\u001b[0m \u001b[1m0s\u001b[0m 1ms/step - loss: 10.5820 - mae: 2.5868 - val_loss: 11.7456 - val_mae: 2.6605 - learning_rate: 0.0010\n",
      "Epoch 25/100\n",
      "\u001b[1m221/221\u001b[0m \u001b[32m━━━━━━━━━━━━━━━━━━━━\u001b[0m\u001b[37m\u001b[0m \u001b[1m0s\u001b[0m 1ms/step - loss: 10.4653 - mae: 2.5809 - val_loss: 12.0145 - val_mae: 2.7314 - learning_rate: 0.0010\n",
      "Epoch 26/100\n",
      "\u001b[1m221/221\u001b[0m \u001b[32m━━━━━━━━━━━━━━━━━━━━\u001b[0m\u001b[37m\u001b[0m \u001b[1m0s\u001b[0m 1ms/step - loss: 10.5848 - mae: 2.5857 - val_loss: 11.2971 - val_mae: 2.6326 - learning_rate: 0.0010\n",
      "Epoch 27/100\n",
      "\u001b[1m221/221\u001b[0m \u001b[32m━━━━━━━━━━━━━━━━━━━━\u001b[0m\u001b[37m\u001b[0m \u001b[1m0s\u001b[0m 2ms/step - loss: 10.6819 - mae: 2.6010 - val_loss: 11.5524 - val_mae: 2.6751 - learning_rate: 0.0010\n",
      "Epoch 28/100\n",
      "\u001b[1m221/221\u001b[0m \u001b[32m━━━━━━━━━━━━━━━━━━━━\u001b[0m\u001b[37m\u001b[0m \u001b[1m1s\u001b[0m 3ms/step - loss: 9.8173 - mae: 2.4943 - val_loss: 10.6841 - val_mae: 2.5670 - learning_rate: 5.0000e-04\n",
      "Epoch 29/100\n",
      "\u001b[1m221/221\u001b[0m \u001b[32m━━━━━━━━━━━━━━━━━━━━\u001b[0m\u001b[37m\u001b[0m \u001b[1m1s\u001b[0m 2ms/step - loss: 9.7382 - mae: 2.4803 - val_loss: 11.0005 - val_mae: 2.6052 - learning_rate: 5.0000e-04\n",
      "Epoch 30/100\n",
      "\u001b[1m221/221\u001b[0m \u001b[32m━━━━━━━━━━━━━━━━━━━━\u001b[0m\u001b[37m\u001b[0m \u001b[1m1s\u001b[0m 3ms/step - loss: 9.3730 - mae: 2.4288 - val_loss: 10.8526 - val_mae: 2.5930 - learning_rate: 5.0000e-04\n",
      "Epoch 31/100\n",
      "\u001b[1m221/221\u001b[0m \u001b[32m━━━━━━━━━━━━━━━━━━━━\u001b[0m\u001b[37m\u001b[0m \u001b[1m1s\u001b[0m 4ms/step - loss: 9.3646 - mae: 2.4216 - val_loss: 11.4296 - val_mae: 2.6587 - learning_rate: 5.0000e-04\n",
      "Epoch 32/100\n",
      "\u001b[1m221/221\u001b[0m \u001b[32m━━━━━━━━━━━━━━━━━━━━\u001b[0m\u001b[37m\u001b[0m \u001b[1m1s\u001b[0m 4ms/step - loss: 9.2962 - mae: 2.4072 - val_loss: 10.7346 - val_mae: 2.5513 - learning_rate: 5.0000e-04\n",
      "Epoch 33/100\n",
      "\u001b[1m221/221\u001b[0m \u001b[32m━━━━━━━━━━━━━━━━━━━━\u001b[0m\u001b[37m\u001b[0m \u001b[1m1s\u001b[0m 2ms/step - loss: 8.8000 - mae: 2.3571 - val_loss: 10.4413 - val_mae: 2.5486 - learning_rate: 5.0000e-04\n",
      "Epoch 34/100\n",
      "\u001b[1m221/221\u001b[0m \u001b[32m━━━━━━━━━━━━━━━━━━━━\u001b[0m\u001b[37m\u001b[0m \u001b[1m0s\u001b[0m 2ms/step - loss: 9.1414 - mae: 2.4118 - val_loss: 11.0755 - val_mae: 2.6037 - learning_rate: 5.0000e-04\n",
      "Epoch 35/100\n",
      "\u001b[1m221/221\u001b[0m \u001b[32m━━━━━━━━━━━━━━━━━━━━\u001b[0m\u001b[37m\u001b[0m \u001b[1m1s\u001b[0m 2ms/step - loss: 9.0204 - mae: 2.4000 - val_loss: 11.5032 - val_mae: 2.6572 - learning_rate: 5.0000e-04\n",
      "Epoch 36/100\n",
      "\u001b[1m221/221\u001b[0m \u001b[32m━━━━━━━━━━━━━━━━━━━━\u001b[0m\u001b[37m\u001b[0m \u001b[1m0s\u001b[0m 2ms/step - loss: 9.2115 - mae: 2.4183 - val_loss: 10.7976 - val_mae: 2.5866 - learning_rate: 5.0000e-04\n",
      "Epoch 37/100\n",
      "\u001b[1m221/221\u001b[0m \u001b[32m━━━━━━━━━━━━━━━━━━━━\u001b[0m\u001b[37m\u001b[0m \u001b[1m1s\u001b[0m 3ms/step - loss: 8.9619 - mae: 2.3594 - val_loss: 10.7211 - val_mae: 2.5780 - learning_rate: 5.0000e-04\n",
      "Epoch 38/100\n",
      "\u001b[1m221/221\u001b[0m \u001b[32m━━━━━━━━━━━━━━━━━━━━\u001b[0m\u001b[37m\u001b[0m \u001b[1m1s\u001b[0m 2ms/step - loss: 9.0614 - mae: 2.4078 - val_loss: 11.0880 - val_mae: 2.6351 - learning_rate: 5.0000e-04\n",
      "Epoch 39/100\n",
      "\u001b[1m221/221\u001b[0m \u001b[32m━━━━━━━━━━━━━━━━━━━━\u001b[0m\u001b[37m\u001b[0m \u001b[1m0s\u001b[0m 1ms/step - loss: 8.8689 - mae: 2.3650 - val_loss: 10.8572 - val_mae: 2.5993 - learning_rate: 2.5000e-04\n",
      "Epoch 40/100\n",
      "\u001b[1m221/221\u001b[0m \u001b[32m━━━━━━━━━━━━━━━━━━━━\u001b[0m\u001b[37m\u001b[0m \u001b[1m0s\u001b[0m 1ms/step - loss: 8.7068 - mae: 2.3419 - val_loss: 10.8442 - val_mae: 2.5803 - learning_rate: 2.5000e-04\n",
      "Epoch 41/100\n",
      "\u001b[1m221/221\u001b[0m \u001b[32m━━━━━━━━━━━━━━━━━━━━\u001b[0m\u001b[37m\u001b[0m \u001b[1m0s\u001b[0m 1ms/step - loss: 8.4808 - mae: 2.2993 - val_loss: 10.9152 - val_mae: 2.6092 - learning_rate: 2.5000e-04\n",
      "Epoch 42/100\n",
      "\u001b[1m221/221\u001b[0m \u001b[32m━━━━━━━━━━━━━━━━━━━━\u001b[0m\u001b[37m\u001b[0m \u001b[1m0s\u001b[0m 1ms/step - loss: 8.5755 - mae: 2.3050 - val_loss: 10.4680 - val_mae: 2.5529 - learning_rate: 2.5000e-04\n",
      "Epoch 43/100\n",
      "\u001b[1m221/221\u001b[0m \u001b[32m━━━━━━━━━━━━━━━━━━━━\u001b[0m\u001b[37m\u001b[0m \u001b[1m0s\u001b[0m 2ms/step - loss: 8.7811 - mae: 2.3618 - val_loss: 10.6487 - val_mae: 2.5780 - learning_rate: 2.5000e-04\n"
     ]
    }
   ],
   "source": [
    "\n",
    "model = Sequential(\n",
    "    [\n",
    "    layers.Input(shape=(21,)),\n",
    "    layers.Dense(64, activation='relu'),\n",
    "    layers.Dense(32, activation='relu'),\n",
    "    \n",
    "    layers.Dense(16, activation='relu'),\n",
    "    # layers.Dropout(0.1),\n",
    "    layers.Dense(1)  # Output layer for regression\n",
    "    ]\n",
    ")\n",
    "\n",
    "# Compile the model\n",
    "model.compile(optimizer=Adam(learning_rate=0.001), loss='mse', metrics=['mae'])\n",
    "\n",
    "# Train the model\n",
    "lr_scheduler = callbacks.ReduceLROnPlateau(monitor='val_loss', factor=0.5, patience=5)\n",
    "early_stopping = callbacks.EarlyStopping(monitor='val_loss', patience=10, restore_best_weights=True)\n",
    "history = model.fit(X_train, y_train, epochs=100, batch_size=16, validation_split=0.2, shuffle=True, callbacks=[lr_scheduler, early_stopping])\n"
   ]
  },
  {
   "cell_type": "code",
   "execution_count": 380,
   "metadata": {},
   "outputs": [
    {
     "name": "stdout",
     "output_type": "stream",
     "text": [
      "Model saved as 'nba_model.h5'\n"
     ]
    }
   ],
   "source": [
    "# Save the trained model right after training\n",
    "model.save('nba_model.keras')\n",
    "print(\"Model saved as 'nba_model.h5'\")"
   ]
  },
  {
   "cell_type": "markdown",
   "metadata": {},
   "source": [
    "### Evaluate model"
   ]
  },
  {
   "cell_type": "code",
   "execution_count": 17,
   "metadata": {},
   "outputs": [],
   "source": [
    "import numpy as np\n",
    "from sklearn.metrics import mean_absolute_error, mean_squared_error"
   ]
  },
  {
   "cell_type": "code",
   "execution_count": null,
   "metadata": {},
   "outputs": [],
   "source": [
    "# Make predictions\n",
    "y_pred = model.predict(X_test)\n",
    "\n",
    "# Calculate performance metrics\n",
    "mae = mean_absolute_error(y_test, y_pred)\n",
    "rmse = np.sqrt(mean_squared_error(y_test, y_pred))\n",
    "\n",
    "print(f'Mean Absolute Error: {mae:.2f}')\n",
    "print(f'Root Mean Squared Error: {rmse:.2f}')"
   ]
  },
  {
   "cell_type": "code",
   "execution_count": null,
   "metadata": {},
   "outputs": [],
   "source": [
    "import matplotlib.pyplot as plt\n",
    "\n",
    "# Assuming `y_test` is the actual values and `predictions` are your model's predictions\n",
    "plt.figure(figsize=(10, 6))\n",
    "plt.scatter(range(len(y_test)), y_test, label='Actual', alpha=0.7)\n",
    "plt.scatter(range(len(y_test)), y_pred, label='Predicted', alpha=0.7)\n",
    "plt.xlabel('Game Index')\n",
    "plt.ylabel('Points')\n",
    "plt.title('Actual vs Predicted Scores')\n",
    "plt.legend()\n",
    "plt.show()"
   ]
  },
  {
   "cell_type": "code",
   "execution_count": 382,
   "metadata": {},
   "outputs": [
    {
     "name": "stdout",
     "output_type": "stream",
     "text": [
      "Wed, Jan 01, 2025\n",
      "Today's Matchups:\n",
      "Empty DataFrame\n",
      "Columns: []\n",
      "Index: []\n"
     ]
    }
   ],
   "source": [
    "# Step 1: Scrape today's games\n",
    "from datetime import datetime\n",
    "\n",
    "def get_today_games():\n",
    "    # Define the URL for the November 2024 NBA schedule\n",
    "    url = \"https://www.basketball-reference.com/leagues/NBA_2025_games-january.html\"\n",
    "    response = requests.get(url)\n",
    "    soup = BeautifulSoup(response.content, 'html.parser')\n",
    "    \n",
    "    # Find the schedule table\n",
    "    schedule_table = soup.find('table', {'id': 'schedule'})\n",
    "    if not schedule_table:\n",
    "        print(\"Schedule table not found.\")\n",
    "        return pd.DataFrame()\n",
    "    \n",
    "    # Extract rows from the table\n",
    "    rows = schedule_table.find_all('tr')\n",
    "    \n",
    "    # Get today's date in the format used on the website\n",
    "    today = datetime.now().strftime('%a, %b %d-, %Y')\n",
    "    print(today)\n",
    "    tmrw = \"Wed, Dec 25, 2024\"\n",
    "    # Initialize a list to hold today's games\n",
    "    games_today = []\n",
    "    \n",
    "    for row in rows:\n",
    "        # Extract the date cell\n",
    "        date_cell = row.find('th', {'data-stat': 'date_game'})\n",
    "        if date_cell and date_cell.text.strip() == today:\n",
    "            # Extract team names\n",
    "            away_team = row.find('td', {'data-stat': 'visitor_team_name'}).text.strip()\n",
    "            home_team = row.find('td', {'data-stat': 'home_team_name'}).text.strip()\n",
    "            games_today.append({'home_team': home_team, 'away_team': away_team})\n",
    "    \n",
    "    # Convert the list to a DataFrame\n",
    "    return pd.DataFrame(games_today)\n",
    "\n",
    "# Fetch today's games\n",
    "today_games = get_today_games()\n",
    "print(\"Today's Matchups:\")\n",
    "\n",
    "\n",
    "print(today_games)\n"
   ]
  },
  {
   "cell_type": "markdown",
   "metadata": {},
   "source": [
    "Get team current team per game data"
   ]
  },
  {
   "cell_type": "code",
   "execution_count": 351,
   "metadata": {},
   "outputs": [
    {
     "name": "stderr",
     "output_type": "stream",
     "text": [
      "/var/folders/rr/ydryh0913_q6_r11vnv6jl9m0000gn/T/ipykernel_1569/311355562.py:42: FutureWarning: Series.__getitem__ treating keys as positions is deprecated. In a future version, integer keys will always be treated as labels (consistent with DataFrame behavior). To access a value by position, use `ser.iloc[pos]`\n",
      "  home = get_team_name_or_abbr(today_games.iloc[0][0])\n",
      "/var/folders/rr/ydryh0913_q6_r11vnv6jl9m0000gn/T/ipykernel_1569/311355562.py:43: FutureWarning: Series.__getitem__ treating keys as positions is deprecated. In a future version, integer keys will always be treated as labels (consistent with DataFrame behavior). To access a value by position, use `ser.iloc[pos]`\n",
      "  away = get_team_name_or_abbr(today_games.iloc[0][1])\n"
     ]
    },
    {
     "name": "stdout",
     "output_type": "stream",
     "text": [
      "               home_team               away_team\n",
      "0         Boston Celtics         Toronto Raptors\n",
      "1         Indiana Pacers         Milwaukee Bucks\n",
      "2      San Antonio Spurs    Los Angeles Clippers\n",
      "3  Oklahoma City Thunder  Minnesota Timberwolves\n",
      "4     Los Angeles Lakers     Cleveland Cavaliers\n",
      "5           Phoenix Suns       Memphis Grizzlies\n"
     ]
    }
   ],
   "source": [
    "def get_team_per_game_stats(team_abbr):\n",
    "    \"\"\"\n",
    "    Scrapes the 'per_game' table for a given team using its abbreviation.\n",
    "    \"\"\"\n",
    "    url = f\"https://www.basketball-reference.com/teams/{team_abbr}/2025.html\"\n",
    "            \n",
    "    response = requests.get(url)\n",
    "    soup = BeautifulSoup(response.content, 'html.parser')\n",
    "    \n",
    "    # Locate the per-game table\n",
    "    per_game_table = soup.find('table', {'id': 'per_game_stats'})\n",
    "    if not per_game_table:\n",
    "        print(f\"Per-game table not found for {team_abbr}.\")\n",
    "        return {}\n",
    "    if per_game_table:\n",
    "        table = StringIO(str(per_game_table))\n",
    "        df = pd.read_html(table)[0]\n",
    "        \n",
    "        # Read the table using pandas\n",
    "    \n",
    "    \n",
    "        # Extract the row corresponding to 'Team Totals'\n",
    "        team_totals_row = df[df['Player'] == 'Team Totals']\n",
    "        if team_totals_row.empty:\n",
    "            print(f\"No 'Team Totals' row found for {team_abbr}.\")\n",
    "            return {}\n",
    "\n",
    "        # Convert the row to a dictionary\n",
    "        team_stats = team_totals_row.iloc[0].to_dict()\n",
    "\n",
    "        # Extract only the required columns\n",
    "        feature_columns = ['PTS', 'FG%', 'FGA', '3P%', '3PA', 'ORB', 'TRB', \n",
    "                           'AST', 'TOV', 'STL', 'PF']\n",
    "    \n",
    "        # Map to desired format\n",
    "        relevant_stats = {col: team_stats.get(col, 0) for col in feature_columns}\n",
    "\n",
    "        return relevant_stats\n",
    "    \n",
    "        \n",
    "    \n",
    "home = get_team_name_or_abbr(today_games.iloc[0][0])\n",
    "away = get_team_name_or_abbr(today_games.iloc[0][1])\n",
    "\n",
    "home_teams = today_games['home_team']\n",
    "away_teams = today_games['away_team']\n",
    "\n",
    "home = get_team_per_game_stats(home)\n",
    "away = get_team_per_game_stats(away)\n",
    "\n",
    "print(today_games)\n",
    "\n"
   ]
  },
  {
   "cell_type": "markdown",
   "metadata": {},
   "source": []
  },
  {
   "cell_type": "markdown",
   "metadata": {},
   "source": [
    "### Create a match up vector for both teams to follow the model features"
   ]
  },
  {
   "cell_type": "code",
   "execution_count": 352,
   "metadata": {},
   "outputs": [],
   "source": [
    "def create_matchup_feature_vector(home_team, away_team, team_abbreviation_func):\n",
    "    \"\"\"\n",
    "    For a given matchup, fetch stats for the home and away teams,\n",
    "    and create a combined feature vector.\n",
    "    \"\"\"\n",
    "    home_abbr = team_abbreviation_func(home_team)\n",
    "    away_abbr = team_abbreviation_func(away_team)\n",
    "    \n",
    "    # Get stats for both teams\n",
    "    home_stats = get_team_per_game_stats(home_abbr)\n",
    "    away_stats = get_team_per_game_stats(away_abbr)\n",
    "    \n",
    "    \n",
    "    # Rename away team columns with '.1' suffix\n",
    "    away_stats = {f\"{key}.1\": value for key, value in away_stats.items()}\n",
    "    \n",
    "    # home_stats['Home/Away'] = 0\n",
    "    # away_stats['Home/Away.1'] = 1\n",
    "    \n",
    "    # Combine home and away team stats\n",
    "    combined_stats = {**home_stats, **away_stats}\n",
    "    \n",
    "    return combined_stats"
   ]
  },
  {
   "cell_type": "markdown",
   "metadata": {},
   "source": [
    "### Get Data for todays games home teams"
   ]
  },
  {
   "cell_type": "code",
   "execution_count": 353,
   "metadata": {},
   "outputs": [
    {
     "name": "stdout",
     "output_type": "stream",
     "text": [
      "Feature Vectors for Today's Matchups:\n",
      "Index(['PTS', 'FG%', 'FGA', '3P%', '3PA', 'ORB', 'TRB', 'AST', 'TOV', 'STL',\n",
      "       'PF', 'PTS.1', 'FG%.1', 'FGA.1', '3P%.1', '3PA.1', 'ORB.1', 'TRB.1',\n",
      "       'AST.1', 'TOV.1', 'STL.1', 'PF.1'],\n",
      "      dtype='object')\n",
      "Adjusted Feature Vectors:\n",
      "   PTS.1    FG%  FG%.1  FGA  FGA.1    3P%  3P%.1  3PA  3PA.1  ORB  ...  TRB  \\\n",
      "0   10.4  0.458  0.463  8.8    8.4  0.364  0.343  4.9    3.1  1.1  ...  4.4   \n",
      "1   10.1  0.488  0.478  8.2    7.7  0.373  0.389  3.2    3.4  0.8  ...  3.8   \n",
      "2   10.3  0.456  0.468  7.8    8.0  0.348  0.371  3.5    3.2  1.0  ...  4.0   \n",
      "3   10.7  0.466  0.458  8.1    8.5  0.345  0.372  3.4    3.9  0.9  ...  3.9   \n",
      "4   11.1  0.474  0.504  8.5    8.1  0.353  0.408  3.3    3.6  0.9  ...  4.1   \n",
      "5   10.8  0.468  0.484  8.2    8.2  0.378  0.369  3.7    3.4  0.9  ...  4.1   \n",
      "\n",
      "   TRB.1  AST  AST.1  TOV  TOV.1  STL  STL.1   PF  PF.1  \n",
      "0    4.2  2.5    2.7  1.1    1.5  0.7    0.7  1.6   2.1  \n",
      "1    3.9  2.6    2.2  1.3    1.2  0.7    0.7  1.8   1.7  \n",
      "2    4.1  2.5    2.3  1.3    1.5  0.7    0.9  1.5   1.8  \n",
      "3    4.2  2.2    2.5  1.0    1.5  1.0    0.8  1.8   1.8  \n",
      "4    4.0  2.6    2.6  1.3    1.1  0.8    0.8  1.6   1.7  \n",
      "5    4.2  2.6    2.7  1.3    1.4  0.8    0.8  1.7   1.9  \n",
      "\n",
      "[6 rows x 21 columns]\n",
      "Shape of feature_df: (6, 21)\n"
     ]
    }
   ],
   "source": [
    "\n",
    "# Generate feature vectors for today's matchups\n",
    "feature_vectors = []\n",
    "for _, game in today_games.iterrows():\n",
    "    features = create_matchup_feature_vector(\n",
    "        game['home_team'],game['away_team'],get_team_name_or_abbr \n",
    "    )\n",
    "\n",
    "    \n",
    "    feature_vectors.append(features)\n",
    "\n",
    "# Convert to a DataFrame for easy viewing\n",
    "home_feature_df = pd.DataFrame(feature_vectors)\n",
    "\n",
    "\n",
    "\n",
    "print(\"Feature Vectors for Today's Matchups:\")\n",
    "print(home_feature_df.columns)\n",
    "\n",
    "\n",
    "# Filter the DataFrame to include only the columns your model expects\n",
    "home_feature_df = home_feature_df[feature_columns]\n",
    "\n",
    "# Check the shape to ensure it's correct\n",
    "print(\"Adjusted Feature Vectors:\")\n",
    "print(home_feature_df)\n",
    "print(\"Shape of feature_df:\", home_feature_df.shape)"
   ]
  },
  {
   "cell_type": "code",
   "execution_count": 354,
   "metadata": {},
   "outputs": [
    {
     "name": "stdout",
     "output_type": "stream",
     "text": [
      "Adjusted Feature Vectors:\n",
      "   PTS.1    FG%  FG%.1  FGA  FGA.1    3P%  3P%.1  3PA  3PA.1  ORB  ...  TRB  \\\n",
      "0   11.5  0.463  0.458  8.4    8.8  0.343  0.364  3.1    4.9  1.2  ...  4.2   \n",
      "1   10.7  0.478  0.488  7.7    8.2  0.389  0.373  3.4    3.2  0.7  ...  3.9   \n",
      "2   10.0  0.468  0.456  8.0    7.8  0.371  0.348  3.2    3.5  1.0  ...  4.1   \n",
      "3   10.1  0.458  0.466  8.5    8.1  0.372  0.345  3.9    3.4  1.0  ...  4.2   \n",
      "4   11.2  0.504  0.474  8.1    8.5  0.408  0.353  3.6    3.3  0.9  ...  4.0   \n",
      "5   10.7  0.484  0.468  8.2    8.2  0.369  0.378  3.4    3.7  1.1  ...  4.2   \n",
      "\n",
      "   TRB.1  AST  AST.1  TOV  TOV.1  STL  STL.1   PF  PF.1  \n",
      "0    4.4  2.7    2.5  1.5    1.1  0.7    0.7  2.1   1.6  \n",
      "1    3.8  2.2    2.6  1.2    1.3  0.7    0.7  1.7   1.8  \n",
      "2    4.0  2.3    2.5  1.5    1.3  0.9    0.7  1.8   1.5  \n",
      "3    3.9  2.5    2.2  1.5    1.0  0.8    1.0  1.8   1.8  \n",
      "4    4.1  2.6    2.6  1.1    1.3  0.8    0.8  1.7   1.6  \n",
      "5    4.1  2.7    2.6  1.4    1.3  0.8    0.8  1.9   1.7  \n",
      "\n",
      "[6 rows x 21 columns]\n",
      "Shape of feature_df: (6, 21)\n"
     ]
    }
   ],
   "source": [
    "\n",
    "# Generate feature vectors for today's matchups\n",
    "feature_vectors = []\n",
    "for _, game in today_games.iterrows():\n",
    "    features = create_matchup_feature_vector(\n",
    "        game['away_team'],game['home_team'],get_team_name_or_abbr \n",
    "    )\n",
    "\n",
    "    \n",
    "    feature_vectors.append(features)\n",
    "\n",
    "# Convert to a DataFrame for easy viewing\n",
    "away_feature_df = pd.DataFrame(feature_vectors)\n",
    "\n",
    "\n",
    "\n",
    "# print(\"Feature Vectors for Today's Matchups:\")\n",
    "# print(away_feature_df.columns)\n",
    "\n",
    "\n",
    "# Filter the DataFrame to include only the columns your model expects\n",
    "away_feature_df = away_feature_df[feature_columns]\n",
    "\n",
    "# Check the shape to ensure it's correct\n",
    "print(\"Adjusted Feature Vectors:\")\n",
    "print(away_feature_df)\n",
    "print(\"Shape of feature_df:\", away_feature_df.shape)"
   ]
  },
  {
   "cell_type": "markdown",
   "metadata": {},
   "source": [
    "### Load out model 'nba_model.keras' and predict Home team scores"
   ]
  },
  {
   "cell_type": "code",
   "execution_count": 355,
   "metadata": {},
   "outputs": [
    {
     "name": "stdout",
     "output_type": "stream",
     "text": [
      "\u001b[1m1/1\u001b[0m \u001b[32m━━━━━━━━━━━━━━━━━━━━\u001b[0m\u001b[37m\u001b[0m \u001b[1m0s\u001b[0m 75ms/step\n",
      "\u001b[1m1/1\u001b[0m \u001b[32m━━━━━━━━━━━━━━━━━━━━\u001b[0m\u001b[37m\u001b[0m \u001b[1m0s\u001b[0m 27ms/step\n",
      "\n",
      "Predicted Scores for Today's Matchups:\n",
      "               home_team               away_team  home_predicted_scores  \\\n",
      "0         Boston Celtics         Toronto Raptors             133.733170   \n",
      "1         Indiana Pacers         Milwaukee Bucks             113.461655   \n",
      "2      San Antonio Spurs    Los Angeles Clippers              94.632004   \n",
      "3  Oklahoma City Thunder  Minnesota Timberwolves             117.479790   \n",
      "4     Los Angeles Lakers     Cleveland Cavaliers             115.519547   \n",
      "5           Phoenix Suns       Memphis Grizzlies             119.117950   \n",
      "\n",
      "   away_predicted_scores  \n",
      "0             106.200233  \n",
      "1             117.675476  \n",
      "2             100.536270  \n",
      "3             117.523018  \n",
      "4             142.281311  \n",
      "5             119.651382  \n"
     ]
    }
   ],
   "source": [
    "loaded_model = tf.keras.models.load_model('nba_model.keras')\n",
    "# loaded_model = model\n",
    "# Example: Make predictions using the loaded model\n",
    "\n",
    "scaler = StandardScaler()\n",
    "home_scaled_features = scaler.fit_transform(home_feature_df)\n",
    "away_scaled_features = scaler.fit_transform(away_feature_df)\n",
    "\n",
    "# Make predictions using the loaded model\n",
    "home_predicted_scores = loaded_model.predict(home_scaled_features)\n",
    "away_predicted_scores = loaded_model.predict(away_scaled_features)\n",
    "\n",
    "# Add the predicted scores to the original DataFrame\n",
    "today_games['home_predicted_scores'] = home_predicted_scores.flatten()\n",
    "today_games['away_predicted_scores'] = away_predicted_scores.flatten()\n",
    "\n",
    "# Display the results\n",
    "print(\"\\nPredicted Scores for Today's Matchups:\")\n",
    "print(today_games)"
   ]
  },
  {
   "cell_type": "code",
   "execution_count": 371,
   "metadata": {},
   "outputs": [
    {
     "name": "stdout",
     "output_type": "stream",
     "text": [
      "12.34408478947367\n"
     ]
    },
    {
     "data": {
      "image/png": "[encoded data removed]",
      "text/plain": [
       "<Figure size 640x480 with 1 Axes>"
      ]
     },
     "metadata": {},
     "output_type": "display_data"
    }
   ],
   "source": [
    "import seaborn as sns\n",
    "xlsx = pd.read_excel('data/nba.xlsx', sheet_name='Raw')\n",
    "# print(xlsx.head())\n",
    "xlsx.columns = xlsx.columns.str.strip()\n",
    "team_name = 'SAS'\n",
    "cle = xlsx[(xlsx['home'] == team_name) | (xlsx[\"away\"] == team_name)]\n",
    "# print(cle)\n",
    "sns.kdeplot(cle['pred total'], color='blue', label='Predicted Total', fill=True)\n",
    "sns.kdeplot(cle['Total Actual'], color='red', label='Actual Total', fill=True)\n",
    "\n",
    "plt.axvline(cle['pred total'].mean(), color='blue', linestyle='--', label='Predicted Mean')\n",
    "plt.axvline(cle['Total Actual'].mean(), color='red', linestyle='--', label='Actual Mean')\n",
    "print(cle['Total Actual'].mean() - cle['pred total'].mean())\n",
    "plt.title('Distribution of Predicted vs Actual Totals')\n",
    "plt.xlabel('Total')\n",
    "plt.ylabel('Frequency')\n",
    "plt.legend()\n",
    "plt.show()\n"
   ]
  },
  {
   "cell_type": "code",
   "execution_count": null,
   "metadata": {},
   "outputs": [],
   "source": [
    "cle['error'] = cle['pred total'] - cle['Actual']\n",
    "sns.kdeplot(cle['error'], shade=True, color='purple')\n",
    "plt.title('Distribution of Prediction Errors')\n",
    "plt.xlabel('Error (Predicted - Actual)')\n",
    "plt.ylabel('Frequency')\n",
    "plt.show()\n"
   ]
  },
  {
   "cell_type": "markdown",
   "metadata": {},
   "source": [
    "### H2H Data\n"
   ]
  },
  {
   "cell_type": "code",
   "execution_count": 289,
   "metadata": {},
   "outputs": [],
   "source": [
    "def get_h2h_stats(teamA, teamB):\n",
    "    \"\"\"\n",
    "    Scrapes the 'per_game' table for a given team using its abbreviation.\n",
    "    \"\"\"\n",
    "    url = f\"https://stathead.com/basketball/versus-finder.cgi?request=1&match=versus_teamvteam&seasons_type=forall&year_min=2024&year_max=2025&team_id1={teamA}&team_id2={teamB}\"\n",
    "    \n",
    "            \n",
    "    response = requests.get(url)\n",
    "    soup = BeautifulSoup(response.content, 'html.parser')\n",
    "    \n",
    "    # Locate the per-game table\n",
    "    h2h_table = soup.find('table', {'id': 'stats_h2h_per_game_rs'})\n",
    "    if not h2h_table:\n",
    "        #TODO get overall per game table\n",
    "        print(f\"Per-game table not found for {teamA} vs. {teamB}.\")\n",
    "        return {}\n",
    "    if h2h_table:\n",
    "        table = StringIO(str(h2h_table))\n",
    "        df = pd.read_html(table)[0]\n",
    "        \n",
    "\n",
    "        feature_columns = ['PTS', 'FG%', 'FGA', '3P%', '3PA', 'ORB', 'TRB', 'AST', 'TOV', 'STL', 'PF']\n",
    "        relevant_stats = {col: df.get(col, 0) for col in feature_columns}\n",
    "        \n",
    "        return relevant_stats\n"
   ]
  },
  {
   "cell_type": "code",
   "execution_count": 290,
   "metadata": {},
   "outputs": [],
   "source": [
    "def create_h2h_feature_vector(home_team, away_team, team_abbreviation_func):\n",
    "    \"\"\"\n",
    "    For a given matchup, fetch stats for the home and away teams,\n",
    "    and create a combined feature vector.\n",
    "    \"\"\"\n",
    "    home_abbr = team_abbreviation_func(home_team)\n",
    "    away_abbr = team_abbreviation_func(away_team)\n",
    "    \n",
    "    # Get stats for both teams\n",
    "    h2h_stats = pd.DataFrame(get_h2h_stats(home_abbr, away_abbr))\n",
    "    home_stats = h2h_stats.iloc[0]\n",
    "    away_stats = h2h_stats.iloc[1]                \n",
    "    \n",
    "    # Rename away team columns with '.1' suffix\n",
    "    away_stats = {f\"{key}.1\": value for key, value in away_stats.items()}\n",
    "    \n",
    "    # home_stats['Home/Away'] = 0\n",
    "    # away_stats['Home/Away.1'] = 1\n",
    "    \n",
    "    # Combine home and away team stats\n",
    "    combined_stats = {**home_stats, **away_stats}\n",
    "    \n",
    "    return combined_stats"
   ]
  },
  {
   "cell_type": "code",
   "execution_count": 291,
   "metadata": {},
   "outputs": [
    {
     "name": "stdout",
     "output_type": "stream",
     "text": [
      "Feature Vectors for Today's Matchups:\n",
      "Index(['PTS', 'FG%', 'FGA', '3P%', '3PA', 'ORB', 'TRB', 'AST', 'TOV', 'STL',\n",
      "       'PF', 'PTS.1', 'FG%.1', 'FGA.1', '3P%.1', '3PA.1', 'ORB.1', 'TRB.1',\n",
      "       'AST.1', 'TOV.1', 'STL.1', 'PF.1'],\n",
      "      dtype='object')\n",
      "Adjusted Feature Vectors:\n",
      "   PTS.1    FG%  FG%.1   FGA  FGA.1    3P%  3P%.1   3PA  3PA.1   ORB  ...  \\\n",
      "0  107.1  0.455  0.473  83.6   80.5  0.331  0.364  33.2   31.6   9.8  ...   \n",
      "1  117.4  0.488  0.467  95.3   95.7  0.409  0.342  42.3   38.9  14.7  ...   \n",
      "2  121.6  0.480  0.484  94.6   91.7  0.354  0.370  32.7   33.6  13.1  ...   \n",
      "3  111.8  0.421  0.464  89.0   84.0  0.297  0.357  37.0   39.3  13.0  ...   \n",
      "4  114.3  0.424  0.464  87.6   91.7  0.328  0.369  41.4   38.7  10.0  ...   \n",
      "5  110.2  0.483  0.463  89.4   91.4  0.384  0.351  33.3   37.0   9.9  ...   \n",
      "\n",
      "    TRB  TRB.1   AST  AST.1   TOV  TOV.1  STL  STL.1    PF  PF.1  \n",
      "0  40.4   41.6  21.9   24.1  16.1   16.1  8.4    8.7  22.0  21.2  \n",
      "1  51.6   42.3  27.0   28.3  14.7   12.2  7.4    8.0  17.4  20.4  \n",
      "2  47.0   44.3  27.1   29.4  12.7   12.9  5.3    8.4  19.7  21.9  \n",
      "3  46.3   43.3  22.5   24.8  13.5   12.8  9.0    8.8  21.0  20.3  \n",
      "4  46.1   48.1  25.4   30.0  14.6   12.9  7.3    7.4  17.3  20.1  \n",
      "5  43.7   44.9  27.2   31.3  13.5   15.8  8.8    7.2  16.9  17.7  \n",
      "\n",
      "[6 rows x 21 columns]\n",
      "Shape of feature_df: (6, 21)\n"
     ]
    }
   ],
   "source": [
    "\n",
    "# Generate feature vectors for today's matchups\n",
    "feature_vectors = []\n",
    "for _, game in today_games.iterrows():\n",
    "    features = create_h2h_feature_vector(\n",
    "        game['home_team'],game['away_team'],get_team_name_or_abbr \n",
    "    )\n",
    "\n",
    "    \n",
    "    feature_vectors.append(features)\n",
    "\n",
    "# Convert to a DataFrame for easy viewing\n",
    "feature_df = pd.DataFrame(feature_vectors)\n",
    "\n",
    "\n",
    "\n",
    "print(\"Feature Vectors for Today's Matchups:\")\n",
    "print(feature_df.columns)\n",
    "\n",
    "\n",
    "# Filter the DataFrame to include only the columns your model expects\n",
    "\n",
    "\n",
    "# Check the shape to ensure it's correct\n",
    "print(\"Adjusted Feature Vectors:\")\n",
    "print(home_feature_df)\n",
    "print(\"Shape of feature_df:\", home_feature_df.shape)"
   ]
  },
  {
   "cell_type": "code",
   "execution_count": 292,
   "metadata": {},
   "outputs": [
    {
     "name": "stdout",
     "output_type": "stream",
     "text": [
      "Index(['PTS', 'FG%', 'FGA', '3P%', '3PA', 'ORB', 'TRB', 'AST', 'TOV', 'STL',\n",
      "       'PF', 'PTS.1', 'FG%.1', 'FGA.1', '3P%.1', '3PA.1', 'ORB.1', 'TRB.1',\n",
      "       'AST.1', 'TOV.1', 'STL.1', 'PF.1'],\n",
      "      dtype='object')\n",
      "\u001b[1m1/1\u001b[0m \u001b[32m━━━━━━━━━━━━━━━━━━━━\u001b[0m\u001b[37m\u001b[0m \u001b[1m0s\u001b[0m 95ms/step\n",
      "\u001b[1m1/1\u001b[0m \u001b[32m━━━━━━━━━━━━━━━━━━━━\u001b[0m\u001b[37m\u001b[0m \u001b[1m0s\u001b[0m 29ms/step\n",
      "\n",
      "Predicted Scores for Today's Matchups:\n",
      "                home_team          away_team  home_predicted_scores  \\\n",
      "0           Orlando Magic      Brooklyn Nets             114.819077   \n",
      "1          Boston Celtics     Indiana Pacers             119.169876   \n",
      "2         Toronto Raptors      Atlanta Hawks             142.273758   \n",
      "3         Houston Rockets         Miami Heat             116.004677   \n",
      "4   Oklahoma City Thunder  Memphis Grizzlies             105.903557   \n",
      "5  Minnesota Timberwolves  San Antonio Spurs              98.664680   \n",
      "\n",
      "   away_predicted_scores  teamA_predicted_scores  teamB_predicted_scores  \n",
      "0             120.055534              112.055656              115.632149  \n",
      "1             127.465240              132.773193              132.000626  \n",
      "2             143.093094              129.849426              137.097076  \n",
      "3             107.723152              113.654427              104.370880  \n",
      "4             107.603424              114.062431              107.344414  \n",
      "5             103.043205               97.625755              117.530968  \n"
     ]
    }
   ],
   "source": [
    "loaded_model = tf.keras.models.load_model('nba_model.keras')\n",
    "\n",
    "# loaded_model = model\n",
    "# Example: Make predictions using the loaded model\n",
    "print(feature_df.columns)\n",
    "\n",
    "home_vect_df = feature_df.drop(['PTS'], axis=1)\n",
    "away_vect_df = feature_df.drop(['PTS.1'], axis=1)\n",
    "\n",
    "# home_vect = vect_df.drop(['PTS'], axis=1)\n",
    "# away_vect = vect_df.drop(['PTS.1'], axis=1)\n",
    "\n",
    "scaler = StandardScaler()\n",
    "home_scaled_features = scaler.fit_transform(home_vect_df)\n",
    "away_scaled_features = scaler.fit_transform(away_vect_df)\n",
    "\n",
    "# Make predictions using the loaded model\n",
    "home_predicted_scores = loaded_model.predict(home_scaled_features)\n",
    "away_predicted_scores = loaded_model.predict(away_scaled_features)\n",
    "\n",
    "# Add the predicted scores to the original DataFrame\n",
    "\n",
    "\n",
    "today_games['home_predicted_scores'] = home_predicted_scores.flatten()\n",
    "today_games['away_predicted_scores'] = away_predicted_scores.flatten()\n",
    "\n",
    "# Display the results\n",
    "print(\"\\nPredicted Scores for Today's Matchups:\")\n",
    "print(today_games)"
   ]
  }
 ],
 "metadata": {
  "kernelspec": {
   "display_name": "plonn-nba",
   "language": "python",
   "name": "python3"
  },
  "language_info": {
   "codemirror_mode": {
    "name": "ipython",
    "version": 3
   },
   "file_extension": ".py",
   "mimetype": "text/x-python",
   "name": "python",
   "nbconvert_exporter": "python",
   "pygments_lexer": "ipython3",
   "version": "3.9.6"
  }
 },
 "nbformat": 4,
 "nbformat_minor": 2
}
